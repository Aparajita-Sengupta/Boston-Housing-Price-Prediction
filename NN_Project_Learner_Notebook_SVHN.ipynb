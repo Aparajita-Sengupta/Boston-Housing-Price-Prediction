{
  "cells": [
    {
      "cell_type": "markdown",
      "metadata": {
        "id": "view-in-github",
        "colab_type": "text"
      },
      "source": [
        "<a href=\"https://colab.research.google.com/github/Aparajita-Sengupta/Boston-Housing-project/blob/main/NN_Project_Learner_Notebook_SVHN.ipynb\" target=\"_parent\"><img src=\"https://colab.research.google.com/assets/colab-badge.svg\" alt=\"Open In Colab\"/></a>"
      ]
    },
    {
      "cell_type": "markdown",
      "metadata": {
        "id": "Q91KqmCRu64D"
      },
      "source": [
        "# **Artificial Neural Networks Project: Street View Housing Number Digit Recognition**\n",
        "\n",
        "# **Marks: 30**\n",
        "\n",
        "Welcome to the project on classification using Artificial Neural Networks. We will work with the Street View Housing Numbers (SVHN) image dataset for this project.\n",
        "\n",
        "--------------\n",
        "## **Context** \n",
        "--------------\n",
        "\n",
        "One of the most interesting tasks in deep learning is to recognize objects in natural scenes. The ability to process visual information using machine learning algorithms can be very useful as demonstrated in various applications.\n",
        "\n",
        "The SVHN dataset contains over 600,000 labeled digits cropped from street-level photos. It is one of the most popular image recognition datasets. It has been used in neural networks created by Google to improve the map quality by automatically transcribing the address numbers from a patch of pixels. The transcribed number with a known street address helps pinpoint the location of the building it represents. \n",
        "\n",
        "----------------\n",
        "## **Objective**\n",
        "----------------\n",
        "\n",
        "To build a feed-forward neural network model that can recognize the digits in the images. \n",
        "\n",
        "-------------\n",
        "## **Dataset**\n",
        "-------------\n",
        "Here, we will use a subset of the original data to save some computation time. The dataset is provided as a .h5 file. The basic preprocessing steps have been applied on the dataset."
      ]
    },
    {
      "cell_type": "markdown",
      "metadata": {
        "id": "8z2Z7-OAs8QG"
      },
      "source": [
        "## **Mount the drive**\n",
        "\n",
        "Let us start by mounting the Google drive. You can run the below cell to mount the Google drive."
      ]
    },
    {
      "cell_type": "code",
      "execution_count": null,
      "metadata": {
        "colab": {
          "base_uri": "https://localhost:8080/"
        },
        "id": "03lDyQUuef7z",
        "outputId": "c938cb48-db79-41fb-b9c9-3d8994a77bd8"
      },
      "outputs": [
        {
          "output_type": "stream",
          "name": "stdout",
          "text": [
            "Mounted at /content/drive\n"
          ]
        }
      ],
      "source": [
        "from google.colab import drive\n",
        "\n",
        "drive.mount('/content/drive')"
      ]
    },
    {
      "cell_type": "markdown",
      "metadata": {
        "id": "C8U3DUa3eNsT"
      },
      "source": [
        "## **Importing the necessary libraries**"
      ]
    },
    {
      "cell_type": "code",
      "execution_count": null,
      "metadata": {
        "id": "-dVzeuF3eQx1"
      },
      "outputs": [],
      "source": [
        "import numpy as np\n",
        "\n",
        "import pandas as pd\n",
        "\n",
        "import matplotlib.pyplot as plt\n",
        "\n",
        "import seaborn as sns\n",
        "\n",
        "from sklearn.model_selection import train_test_split\n",
        "\n",
        "from sklearn.preprocessing import MinMaxScaler\n",
        "\n",
        "import tensorflow as tf\n",
        "\n",
        "from tensorflow.keras.models import Sequential\n",
        "\n",
        "from tensorflow.keras.layers import Dense, Dropout, Activation, BatchNormalization\n",
        "\n",
        "from tensorflow.keras.losses import categorical_crossentropy\n",
        "\n",
        "from tensorflow.keras.optimizers import Adam\n",
        "\n",
        "from tensorflow.keras.utils import to_categorical"
      ]
    },
    {
      "cell_type": "markdown",
      "metadata": {
        "id": "ucnevGLoyKf_"
      },
      "source": [
        "**Let us check the version of tensorflow.**"
      ]
    },
    {
      "cell_type": "code",
      "execution_count": null,
      "metadata": {
        "colab": {
          "base_uri": "https://localhost:8080/"
        },
        "id": "W5as47YxyJVk",
        "outputId": "b7ae750f-a5d3-4749-c3b0-05db8ee3da89"
      },
      "outputs": [
        {
          "output_type": "stream",
          "name": "stdout",
          "text": [
            "2.8.2\n"
          ]
        }
      ],
      "source": [
        "print(tf.__version__)"
      ]
    },
    {
      "cell_type": "markdown",
      "metadata": {
        "id": "8lsux2ZwyTTR"
      },
      "source": [
        "## **Load the dataset**\n",
        "\n",
        "- Let us now load the dataset that is available as a .h5 file.\n",
        "- Split the data into the train and the test dataset."
      ]
    },
    {
      "cell_type": "code",
      "execution_count": null,
      "metadata": {
        "id": "BApX9qgNsqV0",
        "scrolled": true
      },
      "outputs": [],
      "source": [
        "import h5py\n",
        "\n",
        "# Open the file as read only\n",
        "# User can make changes in the path as required\n",
        "\n",
        "h5f = h5py.File('/content/drive/MyDrive/SVHN_single_grey1.h5', 'r')\n",
        "\n",
        "# Load the training and the test dataset\n",
        "\n",
        "X_train = h5f['X_train'][:]\n",
        "\n",
        "y_train = h5f['y_train'][:]\n",
        "\n",
        "X_test = h5f['X_test'][:]\n",
        "\n",
        "y_test = h5f['y_test'][:]\n",
        "\n",
        "\n",
        "# Close this file\n",
        "\n",
        "h5f.close()"
      ]
    },
    {
      "cell_type": "markdown",
      "metadata": {
        "id": "hVe0CYpUgj7w"
      },
      "source": [
        "Let's check the number of images in the training and the testing dataset."
      ]
    },
    {
      "cell_type": "code",
      "execution_count": null,
      "metadata": {
        "colab": {
          "base_uri": "https://localhost:8080/"
        },
        "id": "y3lwKpOefkpA",
        "outputId": "5e61a2e9-7861-49eb-971b-14a92d2c673a"
      },
      "outputs": [
        {
          "output_type": "execute_result",
          "data": {
            "text/plain": [
              "(42000, 18000)"
            ]
          },
          "metadata": {},
          "execution_count": 5
        }
      ],
      "source": [
        "len(X_train), len(X_test)"
      ]
    },
    {
      "cell_type": "markdown",
      "metadata": {
        "id": "akTUOfLlgwoM"
      },
      "source": [
        "**Observation:**\n",
        "- There are 42,000 images in the training data and 18,000 images in the testing data. "
      ]
    },
    {
      "cell_type": "markdown",
      "metadata": {
        "id": "kxODV6HKykuc"
      },
      "source": [
        "## **Visualizing images**\n",
        "\n",
        "- Use X_train to visualize the first 10 images.\n",
        "- Use Y_train to print the first 10 labels."
      ]
    },
    {
      "cell_type": "code",
      "execution_count": null,
      "metadata": {
        "colab": {
          "base_uri": "https://localhost:8080/",
          "height": 96
        },
        "id": "Bvsc8ytHsqWD",
        "outputId": "1190f6ef-5ea7-48bf-d5bd-0cd0cbfb8038"
      },
      "outputs": [
        {
          "output_type": "display_data",
          "data": {
            "text/plain": [
              "<Figure size 720x72 with 10 Axes>"
            ],
            "image/png": "[encoded data removed]"
          },
          "metadata": {
            "needs_background": "light"
          }
        },
        {
          "output_type": "stream",
          "name": "stdout",
          "text": [
            "label for each of the above image: [2 6 7 4 4 0 3 0 7 3]\n"
          ]
        }
      ],
      "source": [
        "# Visualizing the first 10 images in the dataset and printing their labels\n",
        "\n",
        "plt.figure(figsize = (10, 1))\n",
        "\n",
        "for i in range(10):\n",
        "\n",
        "    plt.subplot(1, 10, i+1)\n",
        "\n",
        "    plt.imshow(X_train[i], cmap = \"gray\")\n",
        "\n",
        "    plt.axis('off')\n",
        "\n",
        "plt.show()\n",
        "\n",
        "print('label for each of the above image: %s' % (y_train[0:10]))"
      ]
    },
    {
      "cell_type": "markdown",
      "metadata": {
        "id": "kzoyeXHOy80N"
      },
      "source": [
        "## **Data preparation**\n",
        "\n",
        "- Print the shape and the array of pixels for the first image in the training dataset.\n",
        "- Reshape the train and the test dataset because we always have to give a 4D array as input to CNNs.\n",
        "- Normalize the train and the test dataset by dividing by 255.\n",
        "- Print the new shapes of the train and the test dataset.\n",
        "- One-hot encode the target variable."
      ]
    },
    {
      "cell_type": "code",
      "execution_count": null,
      "metadata": {
        "colab": {
          "base_uri": "https://localhost:8080/"
        },
        "id": "NqndzQXng9rL",
        "outputId": "9bf93a44-7fc9-40c5-ba98-01bb13c78981"
      },
      "outputs": [
        {
          "output_type": "stream",
          "name": "stdout",
          "text": [
            "Shape: (32, 32)\n",
            "\n",
            "First image:\n",
            " [[ 33.0704  30.2601  26.852  ...  71.4471  58.2204  42.9939]\n",
            " [ 25.2283  25.5533  29.9765 ... 113.0209 103.3639  84.2949]\n",
            " [ 26.2775  22.6137  40.4763 ... 113.3028 121.775  115.4228]\n",
            " ...\n",
            " [ 28.5502  36.212   45.0801 ...  24.1359  25.0927  26.0603]\n",
            " [ 38.4352  26.4733  23.2717 ...  28.1094  29.4683  30.0661]\n",
            " [ 50.2984  26.0773  24.0389 ...  49.6682  50.853   53.0377]]\n"
          ]
        }
      ],
      "source": [
        "# Shape and the array of pixels for the first image\n",
        "\n",
        "print(\"Shape:\", X_train[0].shape)\n",
        "\n",
        "print()\n",
        "\n",
        "print(\"First image:\\n\", X_train[0])"
      ]
    },
    {
      "cell_type": "code",
      "execution_count": null,
      "metadata": {
        "id": "D9YPwf9ysqWU"
      },
      "outputs": [],
      "source": [
        "# Reshaping the dataset to flatten them. We are reshaping the 2D image into 1D array\n",
        "\n",
        "X_train = X_train.reshape(X_train.shape[0], 1024)\n",
        "\n",
        "X_test = X_test.reshape(X_test.shape[0], 1024)"
      ]
    },
    {
      "cell_type": "markdown",
      "metadata": {
        "id": "f4CQkKtQ0XII"
      },
      "source": [
        "### **Question 1: Normalize the train and the test data. (2 Marks)**"
      ]
    },
    {
      "cell_type": "code",
      "execution_count": null,
      "metadata": {
        "id": "q_yUUTp_mUzB"
      },
      "outputs": [],
      "source": [
        "# Normalize inputs from 0-255 to 0-1\n",
        "\n",
        "X_train = X_train/255\n",
        "\n",
        "X_test = X_test/255"
      ]
    },
    {
      "cell_type": "code",
      "execution_count": null,
      "metadata": {
        "colab": {
          "base_uri": "https://localhost:8080/"
        },
        "id": "t7FSqOpamWkH",
        "outputId": "59b36578-203e-4782-a7ab-1525624758d9"
      },
      "outputs": [
        {
          "output_type": "stream",
          "name": "stdout",
          "text": [
            "Training set: (42000, 1024) (42000,)\n",
            "Test set: (18000, 1024) (18000,)\n"
          ]
        }
      ],
      "source": [
        "# New shape \n",
        "\n",
        "print('Training set:', X_train.shape, y_train.shape)\n",
        "\n",
        "print('Test set:', X_test.shape, y_test.shape)"
      ]
    },
    {
      "cell_type": "code",
      "execution_count": null,
      "metadata": {
        "colab": {
          "base_uri": "https://localhost:8080/"
        },
        "id": "zL0lYER4sqWw",
        "outputId": "ec9e1383-a1d2-4f6a-892f-9734fd14138f"
      },
      "outputs": [
        {
          "output_type": "execute_result",
          "data": {
            "text/plain": [
              "array([[0., 1., 0., ..., 0., 0., 0.],\n",
              "       [0., 0., 0., ..., 1., 0., 0.],\n",
              "       [0., 0., 1., ..., 0., 0., 0.],\n",
              "       ...,\n",
              "       [0., 0., 0., ..., 1., 0., 0.],\n",
              "       [0., 0., 0., ..., 0., 0., 1.],\n",
              "       [0., 0., 1., ..., 0., 0., 0.]], dtype=float32)"
            ]
          },
          "metadata": {},
          "execution_count": 11
        }
      ],
      "source": [
        "# One-hot encode output\n",
        "\n",
        "y_train = to_categorical(y_train)\n",
        "\n",
        "y_test = to_categorical(y_test)\n",
        "\n",
        "# Test labels\n",
        "\n",
        "y_test"
      ]
    },
    {
      "cell_type": "markdown",
      "metadata": {
        "id": "ViqPOTquCF76"
      },
      "source": [
        "**Observation:**\n",
        "- Notice that each entry of the target variable is a one-hot encoded vector instead of a single label."
      ]
    },
    {
      "cell_type": "markdown",
      "metadata": {
        "id": "yH-gVrzuByNA"
      },
      "source": [
        "## **Model Building**\n",
        "\n",
        "Now that we have done the data preprocessing, let's build an ANN model."
      ]
    },
    {
      "cell_type": "code",
      "execution_count": null,
      "metadata": {
        "id": "BcKRwrGn0XIL"
      },
      "outputs": [],
      "source": [
        "# Fixing the seed for random number generators\n",
        "\n",
        "np.random.seed(42)\n",
        "\n",
        "import random\n",
        "\n",
        "random.seed(42)\n",
        "\n",
        "tf.random.set_seed(42)"
      ]
    },
    {
      "cell_type": "markdown",
      "metadata": {
        "id": "UJDUoaEj1d6e"
      },
      "source": [
        "### **Model Architecture**\n",
        "- Write a function that returns a sequential model with the following architecture:\n",
        " - First hidden layer with **64 nodes and the relu activation** and the **input shape = (1024, )**\n",
        " - Second hidden layer with **32 nodes and the relu activation**\n",
        " - Output layer with **activation as 'softmax' and number of nodes equal to the number of classes, i.e., 10**\n",
        " - Compile the model with the **loss equal to categorical_crossentropy, optimizer equal to Adam(learning_rate = 0.001), and metric equal to 'accuracy'**. Do not fit the model here, just return the compiled model.\n",
        "- Call the nn_model_1 function and store the model in a new variable. \n",
        "- Print the summary of the model.\n",
        "- Fit on the train data with a **validation split of 0.2, batch size = 128, verbose = 1, and epochs = 20**. Store the model building history to use later for visualization."
      ]
    },
    {
      "cell_type": "markdown",
      "metadata": {
        "id": "A48z6ucF0XIP"
      },
      "source": [
        "### **Question 2: Build and train an ANN model as per the above mentioned architecture. (10 Marks)**"
      ]
    },
    {
      "cell_type": "code",
      "execution_count": null,
      "metadata": {
        "id": "Cmi81Gr5sqW-"
      },
      "outputs": [],
      "source": [
        "# Define the model\n",
        "\n",
        "def nn_model_1():\n",
        "\n",
        "    model = Sequential() \n",
        "\n",
        "    # Add layers as per the architecture mentioned above in the same sequence\n",
        "    \n",
        "    model.add(Dense(64, input_shape = (1024, ), activation = 'relu'))\n",
        "\n",
        "    model.add(Dense(32, activation = 'relu'))\n",
        "\n",
        "    model.add(Dense(10, activation = 'softmax'))\n",
        "      \n",
        "    # Compile the model\n",
        "\n",
        "    model.compile(optimizer = tf.keras.optimizers.Adam(learning_rate = 0.001), loss = 'categorical_crossentropy',  metrics = ['accuracy'])\n",
        "    \n",
        "    return model"
      ]
    },
    {
      "cell_type": "code",
      "execution_count": null,
      "metadata": {
        "id": "bGCUI_xsImnH"
      },
      "outputs": [],
      "source": [
        "# Build the model\n",
        "\n",
        "model_1 = nn_model_1()"
      ]
    },
    {
      "cell_type": "code",
      "execution_count": null,
      "metadata": {
        "colab": {
          "base_uri": "https://localhost:8080/"
        },
        "id": "ckJsLdmdQadZ",
        "outputId": "0a4f6023-a5ec-4946-8d5f-916067fe907e"
      },
      "outputs": [
        {
          "output_type": "stream",
          "name": "stdout",
          "text": [
            "Model: \"sequential\"\n",
            "_________________________________________________________________\n",
            " Layer (type)                Output Shape              Param #   \n",
            "=================================================================\n",
            " dense (Dense)               (None, 64)                65600     \n",
            "                                                                 \n",
            " dense_1 (Dense)             (None, 32)                2080      \n",
            "                                                                 \n",
            " dense_2 (Dense)             (None, 10)                330       \n",
            "                                                                 \n",
            "=================================================================\n",
            "Total params: 68,010\n",
            "Trainable params: 68,010\n",
            "Non-trainable params: 0\n",
            "_________________________________________________________________\n"
          ]
        }
      ],
      "source": [
        "# Print the summary\n",
        "\n",
        "model_1.summary()"
      ]
    },
    {
      "cell_type": "code",
      "execution_count": null,
      "metadata": {
        "colab": {
          "base_uri": "https://localhost:8080/"
        },
        "id": "3Fy3Dif_zcCk",
        "outputId": "b2184643-fd54-4e75-a74f-ef5cb6585bc4"
      },
      "outputs": [
        {
          "output_type": "stream",
          "name": "stdout",
          "text": [
            "Epoch 1/20\n",
            "263/263 [==============================] - 2s 4ms/step - loss: 2.2993 - accuracy: 0.1179 - val_loss: 2.2594 - val_accuracy: 0.1463\n",
            "Epoch 2/20\n",
            "263/263 [==============================] - 1s 4ms/step - loss: 2.1130 - accuracy: 0.2276 - val_loss: 1.9376 - val_accuracy: 0.3279\n",
            "Epoch 3/20\n",
            "263/263 [==============================] - 1s 4ms/step - loss: 1.7953 - accuracy: 0.3824 - val_loss: 1.6499 - val_accuracy: 0.4551\n",
            "Epoch 4/20\n",
            "263/263 [==============================] - 1s 4ms/step - loss: 1.5726 - accuracy: 0.4828 - val_loss: 1.4957 - val_accuracy: 0.5094\n",
            "Epoch 5/20\n",
            "263/263 [==============================] - 1s 4ms/step - loss: 1.4604 - accuracy: 0.5268 - val_loss: 1.4267 - val_accuracy: 0.5357\n",
            "Epoch 6/20\n",
            "263/263 [==============================] - 1s 4ms/step - loss: 1.4008 - accuracy: 0.5503 - val_loss: 1.3652 - val_accuracy: 0.5613\n",
            "Epoch 7/20\n",
            "263/263 [==============================] - 1s 4ms/step - loss: 1.3588 - accuracy: 0.5682 - val_loss: 1.3282 - val_accuracy: 0.5799\n",
            "Epoch 8/20\n",
            "263/263 [==============================] - 1s 4ms/step - loss: 1.3239 - accuracy: 0.5810 - val_loss: 1.2951 - val_accuracy: 0.5931\n",
            "Epoch 9/20\n",
            "263/263 [==============================] - 1s 4ms/step - loss: 1.2967 - accuracy: 0.5946 - val_loss: 1.2838 - val_accuracy: 0.5963\n",
            "Epoch 10/20\n",
            "263/263 [==============================] - 1s 4ms/step - loss: 1.2779 - accuracy: 0.5994 - val_loss: 1.2624 - val_accuracy: 0.6029\n",
            "Epoch 11/20\n",
            "263/263 [==============================] - 1s 4ms/step - loss: 1.2604 - accuracy: 0.6049 - val_loss: 1.2670 - val_accuracy: 0.5923\n",
            "Epoch 12/20\n",
            "263/263 [==============================] - 1s 4ms/step - loss: 1.2382 - accuracy: 0.6123 - val_loss: 1.2291 - val_accuracy: 0.6170\n",
            "Epoch 13/20\n",
            "263/263 [==============================] - 1s 3ms/step - loss: 1.2287 - accuracy: 0.6166 - val_loss: 1.2327 - val_accuracy: 0.6144\n",
            "Epoch 14/20\n",
            "263/263 [==============================] - 1s 4ms/step - loss: 1.2176 - accuracy: 0.6197 - val_loss: 1.1992 - val_accuracy: 0.6255\n",
            "Epoch 15/20\n",
            "263/263 [==============================] - 1s 4ms/step - loss: 1.2087 - accuracy: 0.6244 - val_loss: 1.2110 - val_accuracy: 0.6237\n",
            "Epoch 16/20\n",
            "263/263 [==============================] - 1s 4ms/step - loss: 1.2027 - accuracy: 0.6259 - val_loss: 1.2247 - val_accuracy: 0.6152\n",
            "Epoch 17/20\n",
            "263/263 [==============================] - 1s 4ms/step - loss: 1.1894 - accuracy: 0.6296 - val_loss: 1.1941 - val_accuracy: 0.6274\n",
            "Epoch 18/20\n",
            "263/263 [==============================] - 1s 4ms/step - loss: 1.1865 - accuracy: 0.6305 - val_loss: 1.1803 - val_accuracy: 0.6310\n",
            "Epoch 19/20\n",
            "263/263 [==============================] - 1s 4ms/step - loss: 1.1783 - accuracy: 0.6338 - val_loss: 1.1853 - val_accuracy: 0.6289\n",
            "Epoch 20/20\n",
            "263/263 [==============================] - 1s 4ms/step - loss: 1.1752 - accuracy: 0.6346 - val_loss: 1.1880 - val_accuracy: 0.6277\n"
          ]
        }
      ],
      "source": [
        "# Fit the model\n",
        "\n",
        "history_model_1 = model_1.fit(X_train, y_train,validation_split = 0.2, verbose = 1, epochs = 20, batch_size = 128)"
      ]
    },
    {
      "cell_type": "markdown",
      "metadata": {
        "id": "tKOckG-KPyLg"
      },
      "source": [
        "### **Plotting the validation and training accuracies**"
      ]
    },
    {
      "cell_type": "markdown",
      "metadata": {
        "id": "MeF8XSWz0XIU"
      },
      "source": [
        "### **Question 3: Write your observations on the below plot. (2 Marks)**"
      ]
    },
    {
      "cell_type": "code",
      "execution_count": null,
      "metadata": {
        "colab": {
          "base_uri": "https://localhost:8080/",
          "height": 497
        },
        "id": "lt77zgGMP4yw",
        "outputId": "35d6b31c-fbc7-48e8-f1ac-f72d869bfb2a"
      },
      "outputs": [
        {
          "output_type": "display_data",
          "data": {
            "text/plain": [
              "<Figure size 576x576 with 1 Axes>"
            ],
            "image/png": "[encoded data removed]"
          },
          "metadata": {
            "needs_background": "light"
          }
        }
      ],
      "source": [
        "# Plotting the accuracies\n",
        "\n",
        "dict_hist = history_model_1.history\n",
        "\n",
        "list_ep = [i for i in range(1, 21)]\n",
        "\n",
        "plt.figure(figsize = (8, 8))\n",
        "\n",
        "plt.plot(list_ep, dict_hist['accuracy'], ls = '--', label = 'accuracy')\n",
        "\n",
        "plt.plot(list_ep, dict_hist['val_accuracy'], ls = '--', label = 'val_accuracy')\n",
        "\n",
        "plt.ylabel('Accuracy')\n",
        "\n",
        "plt.xlabel('Epochs')\n",
        "\n",
        "plt.legend()\n",
        "\n",
        "plt.show()"
      ]
    },
    {
      "cell_type": "markdown",
      "metadata": {
        "id": "pGBbQpLONX7k"
      },
      "source": [
        "**Observations:**\n",
        "- The **accuracy** for the test data set shown in orange dotted line (i.e., validation accuracy) **keeps increasing** with increase in epoch.\n",
        "- However, the accuracy begins to stabilize at higher epochs (at approximately 10 epochs).\n",
        "- The maximum model accuracy reached on the validation dataset by using this model is **69.06%**.\n",
        "- There is **no sign of overfitting**, which would cause an increase in accuracy in the training set (blue dotted line), and decrease in the accuracy in the validation set (orange dotted line). However, that is not observed in the plot above. \n",
        "- The loss function in the validation set continues to decrease, which means that the error in the predicted outcome continues to decrease with increasing epoch in this model.\n",
        "- This indicates that the **model is generalized** enough to capture the nuances in a similar unseen data.\n",
        "- However, the accuracy of the validation is only 69.06% and **can be improved by further hyperparameter tuning or by using CNN**. "
      ]
    },
    {
      "cell_type": "markdown",
      "metadata": {
        "id": "z0qgLMBZm5-K"
      },
      "source": [
        "Let's build one more model with higher complexity and see if we can improve the performance of the model. \n",
        "\n",
        "First, we need to clear the previous model's history from the Keras backend. Also, let's fix the seed again after clearing the backend."
      ]
    },
    {
      "cell_type": "code",
      "execution_count": null,
      "metadata": {
        "id": "y98BpLxsok_H"
      },
      "outputs": [],
      "source": [
        "# Clearing backend\n",
        "\n",
        "from tensorflow.keras import backend\n",
        "\n",
        "backend.clear_session()"
      ]
    },
    {
      "cell_type": "code",
      "execution_count": null,
      "metadata": {
        "id": "HbKi93HTolGW"
      },
      "outputs": [],
      "source": [
        "# Fixing the seed for random number generators\n",
        "\n",
        "np.random.seed(42)\n",
        "\n",
        "import random\n",
        "\n",
        "random.seed(42)\n",
        "\n",
        "tf.random.set_seed(42)"
      ]
    },
    {
      "cell_type": "markdown",
      "metadata": {
        "id": "lT6o3TIKuCtk"
      },
      "source": [
        "### **Second Model Architecture**\n",
        "- Write a function that returns a sequential model with the following architecture:\n",
        " - First hidden layer with **256 nodes and the relu activation** and the **input shape = (1024, )**\n",
        " - Second hidden layer with **128 nodes and the relu activation**\n",
        " - Add the **Dropout layer with the rate equal to 0.2**\n",
        " - Third hidden layer with **64 nodes and the relu activation**\n",
        " - Fourth hidden layer with **64 nodes and the relu activation**\n",
        " - Fifth hidden layer with **32 nodes and the relu activation**\n",
        " - Add the **BatchNormalization layer**\n",
        " - Output layer with **activation as 'softmax' and number of nodes equal to the number of classes, i.e., 10**\n",
        " -Compile the model with the **loss equal to categorical_crossentropy, optimizer equal to Adam(learning_rate = 0.0005), and metric equal to 'accuracy'**. Do not fit the model here, just return the compiled model.\n",
        "- Call the nn_model_2 function and store the model in a new variable.\n",
        "- Print the summary of the model.\n",
        "- Fit on the train data with a **validation split of 0.2, batch size = 128, verbose = 1, and epochs = 30**. Store the model building history to use later for visualization."
      ]
    },
    {
      "cell_type": "markdown",
      "metadata": {
        "id": "f-ZjNBmH0XIV"
      },
      "source": [
        "### **Question 4: Build and train the new ANN model as per the above mentioned architecture (10 Marks)**"
      ]
    },
    {
      "cell_type": "code",
      "execution_count": null,
      "metadata": {
        "id": "EEPYLFIPnSDP"
      },
      "outputs": [],
      "source": [
        "# Define the model\n",
        "\n",
        "def nn_model_2():\n",
        "\n",
        "    model = Sequential()  \n",
        "    \n",
        "    # Add layers as per the architecture mentioned above in the same sequence\n",
        "    \n",
        "    model.add(Dense(256, input_shape = (1024, ), activation = 'relu'))\n",
        "\n",
        "    model.add(Dense(128,  activation = 'relu'))\n",
        "\n",
        "    model.add(Dropout(0.2))\n",
        "\n",
        "    model.add(Dense(64,  activation = 'relu'))\n",
        "\n",
        "    model.add(Dense(64,  activation = 'relu'))\n",
        "\n",
        "    model.add(Dense(32,  activation = 'relu'))\n",
        "\n",
        "    model.add(BatchNormalization())\n",
        "\n",
        "    model.add(Dense(10, activation = 'softmax'))\n",
        "    \n",
        "    # Compile the model\n",
        "\n",
        "    model.compile(optimizer = tf.keras.optimizers.Adam(learning_rate = 0.0005), loss = 'categorical_crossentropy',  metrics = ['accuracy'])\n",
        "    \n",
        "    return model"
      ]
    },
    {
      "cell_type": "code",
      "execution_count": null,
      "metadata": {
        "id": "AKjDY4plnSFl"
      },
      "outputs": [],
      "source": [
        "# Build the model\n",
        "\n",
        "model_2 = nn_model_2()"
      ]
    },
    {
      "cell_type": "code",
      "execution_count": null,
      "metadata": {
        "id": "gz_6SVrU2swZ",
        "colab": {
          "base_uri": "https://localhost:8080/"
        },
        "outputId": "e29943d3-8169-4bb9-b4c8-6d77ce3a605b"
      },
      "outputs": [
        {
          "output_type": "stream",
          "name": "stdout",
          "text": [
            "Model: \"sequential\"\n",
            "_________________________________________________________________\n",
            " Layer (type)                Output Shape              Param #   \n",
            "=================================================================\n",
            " dense (Dense)               (None, 256)               262400    \n",
            "                                                                 \n",
            " dense_1 (Dense)             (None, 128)               32896     \n",
            "                                                                 \n",
            " dropout (Dropout)           (None, 128)               0         \n",
            "                                                                 \n",
            " dense_2 (Dense)             (None, 64)                8256      \n",
            "                                                                 \n",
            " dense_3 (Dense)             (None, 64)                4160      \n",
            "                                                                 \n",
            " dense_4 (Dense)             (None, 32)                2080      \n",
            "                                                                 \n",
            " batch_normalization (BatchN  (None, 32)               128       \n",
            " ormalization)                                                   \n",
            "                                                                 \n",
            " dense_5 (Dense)             (None, 10)                330       \n",
            "                                                                 \n",
            "=================================================================\n",
            "Total params: 310,250\n",
            "Trainable params: 310,186\n",
            "Non-trainable params: 64\n",
            "_________________________________________________________________\n"
          ]
        }
      ],
      "source": [
        "# Print the model summary\n",
        "model_2.summary()"
      ]
    },
    {
      "cell_type": "code",
      "execution_count": null,
      "metadata": {
        "id": "IQ0Sc4R-y-uu",
        "colab": {
          "base_uri": "https://localhost:8080/"
        },
        "outputId": "3e2c8979-3a77-463f-f9e1-54f5360d8ed1"
      },
      "outputs": [
        {
          "output_type": "stream",
          "name": "stdout",
          "text": [
            "Epoch 1/30\n",
            "263/263 [==============================] - 3s 9ms/step - loss: 2.3450 - accuracy: 0.1085 - val_loss: 2.2767 - val_accuracy: 0.1340\n",
            "Epoch 2/30\n",
            "263/263 [==============================] - 2s 8ms/step - loss: 2.0342 - accuracy: 0.2575 - val_loss: 1.8202 - val_accuracy: 0.3630\n",
            "Epoch 3/30\n",
            "263/263 [==============================] - 2s 8ms/step - loss: 1.6066 - accuracy: 0.4447 - val_loss: 1.5031 - val_accuracy: 0.4754\n",
            "Epoch 4/30\n",
            "263/263 [==============================] - 2s 8ms/step - loss: 1.4067 - accuracy: 0.5235 - val_loss: 1.2604 - val_accuracy: 0.5808\n",
            "Epoch 5/30\n",
            "263/263 [==============================] - 2s 8ms/step - loss: 1.2575 - accuracy: 0.5862 - val_loss: 1.1399 - val_accuracy: 0.6344\n",
            "Epoch 6/30\n",
            "263/263 [==============================] - 2s 9ms/step - loss: 1.1867 - accuracy: 0.6154 - val_loss: 1.0533 - val_accuracy: 0.6650\n",
            "Epoch 7/30\n",
            "263/263 [==============================] - 2s 8ms/step - loss: 1.1050 - accuracy: 0.6460 - val_loss: 1.0352 - val_accuracy: 0.6686\n",
            "Epoch 8/30\n",
            "263/263 [==============================] - 2s 8ms/step - loss: 1.0511 - accuracy: 0.6629 - val_loss: 1.0242 - val_accuracy: 0.6771\n",
            "Epoch 9/30\n",
            "263/263 [==============================] - 2s 8ms/step - loss: 1.0305 - accuracy: 0.6695 - val_loss: 0.9965 - val_accuracy: 0.6825\n",
            "Epoch 10/30\n",
            "263/263 [==============================] - 2s 8ms/step - loss: 0.9800 - accuracy: 0.6885 - val_loss: 0.9775 - val_accuracy: 0.6895\n",
            "Epoch 11/30\n",
            "263/263 [==============================] - 2s 9ms/step - loss: 0.9585 - accuracy: 0.6932 - val_loss: 0.9910 - val_accuracy: 0.6764\n",
            "Epoch 12/30\n",
            "263/263 [==============================] - 2s 8ms/step - loss: 0.9316 - accuracy: 0.7015 - val_loss: 0.8793 - val_accuracy: 0.7231\n",
            "Epoch 13/30\n",
            "263/263 [==============================] - 2s 8ms/step - loss: 0.9036 - accuracy: 0.7131 - val_loss: 0.8365 - val_accuracy: 0.7401\n",
            "Epoch 14/30\n",
            "263/263 [==============================] - 2s 8ms/step - loss: 0.8904 - accuracy: 0.7165 - val_loss: 0.8627 - val_accuracy: 0.7236\n",
            "Epoch 15/30\n",
            "263/263 [==============================] - 2s 8ms/step - loss: 0.8834 - accuracy: 0.7207 - val_loss: 0.8662 - val_accuracy: 0.7251\n",
            "Epoch 16/30\n",
            "263/263 [==============================] - 3s 11ms/step - loss: 0.8676 - accuracy: 0.7254 - val_loss: 0.8450 - val_accuracy: 0.7302\n",
            "Epoch 17/30\n",
            "263/263 [==============================] - 3s 10ms/step - loss: 0.8379 - accuracy: 0.7358 - val_loss: 0.8372 - val_accuracy: 0.7331\n",
            "Epoch 18/30\n",
            "263/263 [==============================] - 2s 8ms/step - loss: 0.8385 - accuracy: 0.7326 - val_loss: 0.8039 - val_accuracy: 0.7463\n",
            "Epoch 19/30\n",
            "263/263 [==============================] - 2s 8ms/step - loss: 0.8272 - accuracy: 0.7370 - val_loss: 0.8011 - val_accuracy: 0.7479\n",
            "Epoch 20/30\n",
            "263/263 [==============================] - 3s 11ms/step - loss: 0.8099 - accuracy: 0.7423 - val_loss: 0.7790 - val_accuracy: 0.7565\n",
            "Epoch 21/30\n",
            "263/263 [==============================] - 2s 9ms/step - loss: 0.7917 - accuracy: 0.7484 - val_loss: 0.7915 - val_accuracy: 0.7470\n",
            "Epoch 22/30\n",
            "263/263 [==============================] - 2s 8ms/step - loss: 0.7988 - accuracy: 0.7477 - val_loss: 0.8588 - val_accuracy: 0.7273\n",
            "Epoch 23/30\n",
            "263/263 [==============================] - 2s 9ms/step - loss: 0.7755 - accuracy: 0.7541 - val_loss: 0.7969 - val_accuracy: 0.7508\n",
            "Epoch 24/30\n",
            "263/263 [==============================] - 2s 9ms/step - loss: 0.7655 - accuracy: 0.7546 - val_loss: 0.7608 - val_accuracy: 0.7623\n",
            "Epoch 25/30\n",
            "263/263 [==============================] - 2s 8ms/step - loss: 0.7594 - accuracy: 0.7567 - val_loss: 0.7546 - val_accuracy: 0.7596\n",
            "Epoch 26/30\n",
            "263/263 [==============================] - 2s 8ms/step - loss: 0.7590 - accuracy: 0.7590 - val_loss: 0.7774 - val_accuracy: 0.7554\n",
            "Epoch 27/30\n",
            "263/263 [==============================] - 2s 8ms/step - loss: 0.7366 - accuracy: 0.7651 - val_loss: 0.7772 - val_accuracy: 0.7546\n",
            "Epoch 28/30\n",
            "263/263 [==============================] - 2s 8ms/step - loss: 0.7340 - accuracy: 0.7656 - val_loss: 0.7828 - val_accuracy: 0.7510\n",
            "Epoch 29/30\n",
            "263/263 [==============================] - 2s 8ms/step - loss: 0.7204 - accuracy: 0.7709 - val_loss: 0.7290 - val_accuracy: 0.7771\n",
            "Epoch 30/30\n",
            "263/263 [==============================] - 2s 9ms/step - loss: 0.7138 - accuracy: 0.7734 - val_loss: 0.7256 - val_accuracy: 0.7773\n"
          ]
        }
      ],
      "source": [
        "# Fit the model\n",
        "\n",
        "history_model_2 = model_2.fit(X_train, y_train,validation_split = 0.2, verbose = 1, epochs = 30, batch_size = 128)"
      ]
    },
    {
      "cell_type": "markdown",
      "metadata": {
        "id": "6UjEIbPM0XIX"
      },
      "source": [
        "### **Plotting the validation and training accuracies**"
      ]
    },
    {
      "cell_type": "markdown",
      "metadata": {
        "id": "ZJYsvjmw0XIX"
      },
      "source": [
        "### **Question 5: Write your observations on the below plot. (2 Marks)**"
      ]
    },
    {
      "cell_type": "code",
      "execution_count": null,
      "metadata": {
        "colab": {
          "base_uri": "https://localhost:8080/",
          "height": 497
        },
        "id": "01ig6BrF1KVy",
        "outputId": "3c30f4af-cb06-4d44-b449-9e76a72ffa37"
      },
      "outputs": [
        {
          "output_type": "display_data",
          "data": {
            "text/plain": [
              "<Figure size 576x576 with 1 Axes>"
            ],
            "image/png": "[encoded data removed]"
          },
          "metadata": {
            "needs_background": "light"
          }
        }
      ],
      "source": [
        "# Plotting the accuracies\n",
        "\n",
        "dict_hist = history_model_2.history\n",
        "\n",
        "list_ep = [i for i in range(1, 31)]\n",
        "\n",
        "plt.figure(figsize = (8, 8))\n",
        "\n",
        "plt.plot(list_ep, dict_hist['accuracy'], ls = '--', label = 'accuracy')\n",
        "\n",
        "plt.plot(list_ep, dict_hist['val_accuracy'], ls = '--', label = 'val_accuracy')\n",
        "\n",
        "plt.ylabel('Accuracy')\n",
        "\n",
        "plt.xlabel('Epochs')\n",
        "\n",
        "plt.legend()\n",
        "\n",
        "plt.show()"
      ]
    },
    {
      "cell_type": "markdown",
      "metadata": {
        "id": "VPW1LlD61RDn"
      },
      "source": [
        "**Observations:**\n",
        "- The model accuracy has improved after hyperparameter tuning. \n",
        "- The **accuracy** for both the train and test data sets **increase sharply** with increase in epoch till about 5 epochs.\n",
        "- However, the accuracy begins to stabilize after approximately 5 epochs.\n",
        "- The accuracy of the validation is has **improved from 69.06% to 77.73% by hyperparameter tuning**. We have:\n",
        " - increased the number of layers, \n",
        " - added dropout layer and \n",
        " - batch normalization layer. \n",
        " - We have also decreased the learning rate which is the stepsize of the weights in the ANN, and \n",
        " - increased the epoch from 20 to 30.  \n",
        "- There is **no sign of overfitting**, which would cause an increase in accuracy in the training set (blue dotted line), and decrease in the accuracy in the validation set (orange dotted line). However, that is not observed in the plot above. \n",
        "- This indicates that the **model is generalized** enough to capture the nuances in a similar unseen data.\n",
        "- The loss function in the validation set continues to decrease, which means that the error in the predicted outcome continues to decrease with increasing epoch in this model.\n",
        "- This model can be further improved by continuing the hyperparameter tuning or by using CNN. "
      ]
    },
    {
      "cell_type": "markdown",
      "metadata": {
        "id": "8kuXx9Bvu00f"
      },
      "source": [
        "## **Predictions on the test data**\n",
        "\n",
        "- Make predictions on the test set using the second model.\n",
        "- Print the obtained results using the classification report and the confusion matrix.\n",
        "- Final observations on the obtained results."
      ]
    },
    {
      "cell_type": "code",
      "execution_count": null,
      "metadata": {
        "id": "xbWMEtTj5Ad0"
      },
      "outputs": [],
      "source": [
        "test_pred = model_2.predict(X_test)\n",
        "\n",
        "test_pred = np.argmax(test_pred, axis = -1)"
      ]
    },
    {
      "cell_type": "markdown",
      "metadata": {
        "id": "i3li8Ib08yts"
      },
      "source": [
        "**Note:** Earlier, we noticed that each entry of the target variable is a one-hot encoded vector but to print the classification report and confusion matrix, we must convert each entry of y_test to a single label."
      ]
    },
    {
      "cell_type": "code",
      "execution_count": null,
      "metadata": {
        "id": "NByu7uAQ8x9P"
      },
      "outputs": [],
      "source": [
        "# Converting each entry to single label from one-hot encoded vector\n",
        "\n",
        "y_test = np.argmax(y_test, axis = -1)"
      ]
    },
    {
      "cell_type": "markdown",
      "metadata": {
        "id": "1_SIoopr0XIg"
      },
      "source": [
        "### **Question 6: Print the classification report and the confusion matrix for the test predictions. Write your observations on the final results. (4 Marks)**"
      ]
    },
    {
      "cell_type": "code",
      "execution_count": null,
      "metadata": {
        "id": "xRddeJ-3EHT1",
        "colab": {
          "base_uri": "https://localhost:8080/",
          "height": 636
        },
        "outputId": "c3205352-cb18-4973-d415-dadb9e1d30be"
      },
      "outputs": [
        {
          "output_type": "stream",
          "name": "stdout",
          "text": [
            "              precision    recall  f1-score   support\n",
            "\n",
            "           0       0.85      0.77      0.81      1814\n",
            "           1       0.77      0.82      0.79      1828\n",
            "           2       0.81      0.79      0.80      1803\n",
            "           3       0.73      0.75      0.74      1719\n",
            "           4       0.76      0.86      0.81      1812\n",
            "           5       0.75      0.73      0.74      1768\n",
            "           6       0.82      0.72      0.76      1832\n",
            "           7       0.86      0.77      0.81      1808\n",
            "           8       0.71      0.76      0.73      1812\n",
            "           9       0.73      0.78      0.75      1804\n",
            "\n",
            "    accuracy                           0.78     18000\n",
            "   macro avg       0.78      0.77      0.78     18000\n",
            "weighted avg       0.78      0.78      0.78     18000\n",
            "\n"
          ]
        },
        {
          "output_type": "display_data",
          "data": {
            "text/plain": [
              "<Figure size 576x360 with 2 Axes>"
            ],
            "image/png": "[encoded data removed]"
          },
          "metadata": {
            "needs_background": "light"
          }
        }
      ],
      "source": [
        "# Importing required functions\n",
        "\n",
        "from sklearn.metrics import classification_report\n",
        "\n",
        "from sklearn.metrics import confusion_matrix\n",
        "\n",
        "# Printing the classification report\n",
        "\n",
        "print(classification_report(y_test, test_pred))\n",
        "\n",
        "# Plotting the heatmap using confusion matrix\n",
        "\n",
        "cm = confusion_matrix([int(x) for x in y_test], test_pred)     #Write the code for creating confusion matrix using actual labels (y_test) and predicted labels (test_pred)\n",
        "\n",
        "plt.figure(figsize = (8, 5))\n",
        "\n",
        "sns.heatmap(cm, annot = True,  fmt = '.0f')\n",
        "\n",
        "plt.ylabel('Actual')\n",
        "\n",
        "plt.xlabel('Predicted')\n",
        "\n",
        "plt.show()"
      ]
    },
    {
      "cell_type": "markdown",
      "metadata": {
        "id": "DjErl4GA2u9s"
      },
      "source": [
        "**Final Observations:**\n",
        "- In this feed-forward neural network, we have performed classification of images of digits using Keras.\n",
        "- We have fine-tuned our hyperparameters in the second model to get a better result.\n",
        "- Our final model accuracy is only 77.73% which is an improvement from 69.06% in the first model.\n",
        "- From the confusion matrix, we can see that most of the actual Vs predicted outcomes are along the diagonal, i.e., most of the observations are correctly identified by the model. \n",
        "- In some cases, the model has misidentified the actual digit. The number that has been mis-predicted the most is '6', which has been predicted as '8' about 177 times. The number '3' has also been misidentified as 5 about 139 times.\n",
        "- 0, 4 and 7  have the highest f1 scores (81%). Hence they have the best chances of being accurately predicted. \n",
        "- 8 has the lowest f1 scores (73%). Hence it has the worst chance of being accurately predicted.\n",
        "- Number 8 has the lowest precision whereas 7 has the highest precision. Hence, the model is incorrectly classifing other numbers as 8. On the other hand, 7 has the lowest chances of being misidentified as a different digit.\n",
        "- Number 4 has the highest recall, whereas 5 and 6 have the lowest recall. This indicates that the model is not efficiently identifying the numbers 5 and 6 correctly. However for number 4, the model idenifies it correctly most efficiently.\n",
        "- The model has a 77% recall, 78% precision and 78% F1-score, which is an average performance.\n",
        "- However, the computational time has increased after adding more hidden layers. This apparently tiny difference in the time can manifest itself in a significant manner if we have a large dataset to process.\n",
        "\n",
        "\n",
        "**Suggestions for a better model:**\n",
        "- We can further fine-tune our hyperparameters.\n",
        "- Use CNN instead of ANN. CNN can give better results for complex images as the ones we had in this project. Within each digit there are large variations in shapes and styles.\n",
        "- We may check for possible outliers that the model could not identify.\n",
        "\n",
        "** Additional note:**\n",
        "The accuracy and computational times per epoch changed with each time the program was run. Hence, there is a slight mismatch between some of the numbers quoted in the observations, and the actual numbers."
      ]
    }
  ],
  "metadata": {
    "accelerator": "TPU",
    "colab": {
      "collapsed_sections": [],
      "provenance": [],
      "include_colab_link": true
    },
    "kernelspec": {
      "display_name": "Python 3 (ipykernel)",
      "language": "python",
      "name": "python3"
    },
    "language_info": {
      "codemirror_mode": {
        "name": "ipython",
        "version": 3
      },
      "file_extension": ".py",
      "mimetype": "text/x-python",
      "name": "python",
      "nbconvert_exporter": "python",
      "pygments_lexer": "ipython3",
      "version": "3.9.7"
    }
  },
  "nbformat": 4,
  "nbformat_minor": 0
}